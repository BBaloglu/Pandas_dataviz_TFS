{
 "cells": [
  {
   "cell_type": "markdown",
   "id": "cb83291d",
   "metadata": {},
   "source": [
    "*Source: [USC TRGN510 course material](https://sites.usc.edu/translationalgenomics/home/trgn510/learning-python/pandas/)*"
   ]
  },
  {
   "cell_type": "markdown",
   "id": "1ed999d1",
   "metadata": {},
   "source": [
    "## Grouping"
   ]
  },
  {
   "cell_type": "markdown",
   "id": "d79c1534",
   "metadata": {},
   "source": [
    "<div>\n",
    "<img src=\"https://itg.usc.edu/site/wp-content/uploads/2020/09/Screen-Shot-2020-09-10-at-12.15.53-PM-1024x291.png\" align=\"center\" width=\"1000\"/>\n",
    "</div>\n",
    "\n"
   ]
  },
  {
   "cell_type": "markdown",
   "id": "6c9f56a5",
   "metadata": {},
   "source": [
    "## Joining"
   ]
  },
  {
   "attachments": {},
   "cell_type": "markdown",
   "id": "12227466",
   "metadata": {},
   "source": [
    "<div>\n",
    "<img src=\"https://itg.usc.edu/site/wp-content/uploads/2020/09/Screen-Shot-2020-09-10-at-12.14.21-PM-442x1024.png\" \n",
    "     align=\"center\" width=\"500\"/>\n",
    "</div>"
   ]
  },
  {
   "cell_type": "code",
   "execution_count": null,
   "id": "4e719a2c",
   "metadata": {},
   "outputs": [],
   "source": []
  }
 ],
 "metadata": {
  "kernelspec": {
   "display_name": "Python 3 (ipykernel)",
   "language": "python",
   "name": "python3"
  },
  "language_info": {
   "codemirror_mode": {
    "name": "ipython",
    "version": 3
   },
   "file_extension": ".py",
   "mimetype": "text/x-python",
   "name": "python",
   "nbconvert_exporter": "python",
   "pygments_lexer": "ipython3",
   "version": "3.8.10"
  }
 },
 "nbformat": 4,
 "nbformat_minor": 5
}
